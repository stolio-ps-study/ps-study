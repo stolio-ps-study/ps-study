{
  "nbformat": 4,
  "nbformat_minor": 0,
  "metadata": {
    "colab": {
      "provenance": []
    },
    "kernelspec": {
      "name": "python3",
      "display_name": "Python 3"
    },
    "language_info": {
      "name": "python"
    }
  },
  "cells": [
    {
      "cell_type": "code",
      "execution_count": 6,
      "metadata": {
        "colab": {
          "base_uri": "https://localhost:8080/"
        },
        "id": "HZ6majzuB0dD",
        "outputId": "188f27dd-68fa-4880-9353-99e8917bfe4c"
      },
      "outputs": [
        {
          "output_type": "stream",
          "name": "stdout",
          "text": [
            "wa\n",
            "0\n"
          ]
        }
      ],
      "source": [
        "# 5622번: 다이얼\n",
        "x = input()\n",
        "time = 0\n",
        "\n",
        "for i in x:\n",
        "  if i in \"ABC\":\n",
        "    time += 3\n",
        "  elif i in \"DEF\":\n",
        "    time += 4\n",
        "  elif i in \"GHI\":\n",
        "    time += 5\n",
        "  elif i in \"JKL\":\n",
        "    time += 6\n",
        "  elif i in \"MNO\":\n",
        "    time += 7\n",
        "  elif i in \"PQRS\":\n",
        "    time += 8\n",
        "  elif i in \"TUV\":\n",
        "    time += 9\n",
        "  elif i in \"WXYZ\":\n",
        "    time += 10\n",
        "  elif i in \" \":\n",
        "    time += 2\n",
        "  else:\n",
        "    time + 11\n",
        "\n",
        "print(time)"
      ]
    },
    {
      "cell_type": "code",
      "source": [
        "list = [\"ABC\", \"DEF\", \"GHI\", \"JKL\", \"MNO\", \"PQRS\", \"TUV\", \"WXYZ\"]\n",
        "x = input()\n",
        "time = 0\n",
        "\n",
        "for i in x:\n",
        "  for j in list:\n",
        "    if i in j:\n",
        "      time += list.index(j) + 3\n",
        "\n",
        "print(time)"
      ],
      "metadata": {
        "colab": {
          "base_uri": "https://localhost:8080/"
        },
        "id": "pnKWKdn-GXEH",
        "outputId": "74d9ceb1-a3f4-445c-ac20-f5311416fa07"
      },
      "execution_count": 4,
      "outputs": [
        {
          "output_type": "stream",
          "name": "stdout",
          "text": [
            "wa\n",
            "0\n"
          ]
        }
      ]
    },
    {
      "cell_type": "code",
      "source": [
        "# 1316번: 그룹 단어 체커\n",
        "x = int(input())\n",
        "for i in range(x):\n",
        "  word = input()\n",
        "  for j in range(len(word) - 1):\n",
        "    if word[j] == word[j+1]:\n",
        "      pass\n",
        "    elif word[j] in word[j+1:]:\n",
        "      x -= 1\n",
        "      break\n",
        "print(x)"
      ],
      "metadata": {
        "id": "priE42u-HA-D",
        "colab": {
          "base_uri": "https://localhost:8080/"
        },
        "outputId": "4e27d2a9-922a-4462-dfd9-5688d7929a65"
      },
      "execution_count": 5,
      "outputs": [
        {
          "output_type": "stream",
          "name": "stdout",
          "text": [
            "3\n",
            "happy\n",
            "new\n",
            "year\n",
            "3\n"
          ]
        }
      ]
    },
    {
      "cell_type": "code",
      "source": [
        "croatia = ['c=', 'c-', 'dz=', 'd-', 'lj', 'nj', 's=', 'z=']\n",
        "x = input()\n",
        "\n",
        "for i in croatia:\n",
        "  x = x.replace(i, '*')\n",
        "print(len(x))"
      ],
      "metadata": {
        "colab": {
          "base_uri": "https://localhost:8080/"
        },
        "id": "VOlzbrghkWjJ",
        "outputId": "c22e1603-7415-4e62-852b-0eae30406409"
      },
      "execution_count": 7,
      "outputs": [
        {
          "output_type": "stream",
          "name": "stdout",
          "text": [
            "ddz=z=\n",
            "3\n"
          ]
        }
      ]
    },
    {
      "cell_type": "code",
      "source": [
        "n = set(range(1, 10001))\n",
        "g = set()\n",
        "\n",
        "for i in range(1, 10001):\n",
        "  for j in str(i):\n",
        "    i += int(j)\n",
        "  g.add(i)\n",
        "##############"
      ],
      "metadata": {
        "id": "Pdla1eJmky1t"
      },
      "execution_count": null,
      "outputs": []
    },
    {
      "cell_type": "code",
      "source": [
        "num = int(input())\n",
        "list = []\n",
        "\n",
        "for i in range(num):\n",
        "  w, h = map(int, input().split())\n",
        "  list.append((w, h))\n",
        "\n",
        "for j in list:\n",
        "  ranking = 1\n",
        "  for k in list:\n",
        "    if j[0] < k[0] and j[1] < k[1]:\n",
        "      ranking += 1\n",
        "  print(ranking, end=\" \")"
      ],
      "metadata": {
        "colab": {
          "base_uri": "https://localhost:8080/"
        },
        "id": "iqTxkgzrlYHA",
        "outputId": "986d5fc9-81fe-4f25-99d4-b74a70dcf09c"
      },
      "execution_count": 9,
      "outputs": [
        {
          "output_type": "stream",
          "name": "stdout",
          "text": [
            "5\n",
            "55 185\n",
            "58 183\n",
            "88 186\n",
            "60 175\n",
            "46 155\n",
            "2 2 1 2 5 "
          ]
        }
      ]
    },
    {
      "cell_type": "code",
      "source": [],
      "metadata": {
        "id": "mstsL34kmSzV"
      },
      "execution_count": null,
      "outputs": []
    }
  ]
}